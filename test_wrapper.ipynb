{
 "cells": [
  {
   "cell_type": "code",
   "execution_count": 4,
   "metadata": {},
   "outputs": [],
   "source": [
    "# not compatible with python version >= 3.11 due to module 'asyncio' has no attribute 'coroutine'\n",
    "from castoredc_api import CastorStudy\n",
    "\n",
    "client_id = 'your_client_id'\n",
    "client_secret = 'your_client_secret'\n",
    "study_id = 'your_study_id'\n",
    "\n",
    "# Instantiate Study\n",
    "study = CastorStudy(client_id,\n",
    "                    client_secret,\n",
    "                    study_id,\n",
    "                    'us.castoredc.com')"
   ]
  },
  {
   "cell_type": "code",
   "execution_count": 12,
   "metadata": {},
   "outputs": [
    {
     "name": "stderr",
     "output_type": "stream",
     "text": [
      "Downloading Study Structure.\n"
     ]
    },
    {
     "name": "stderr",
     "output_type": "stream",
     "text": [
      "Mapping Study Structure: 100%|██████████| 948/948 [00:00<00:00, 94743.62it/s]\n",
      "0it [00:00, ?it/s]\n",
      "Downloading Field Dependencies\n",
      "0it [00:00, ?it/s]\n",
      "Downloading Optiongroups\n",
      "0it [00:00, ?it/s]\n",
      "Downloading Survey Packages\n",
      "0it [00:00, ?it/s]\n",
      "Downloading Surveys.\n",
      "0it [00:00, ?it/s]\n",
      "Downloading Report Instances.\n",
      "100%|██████████| 4/4 [00:02<00:00,  1.40it/s]\n",
      "Downloading Study Data.\n",
      "Mapping Data:  73%|███████▎  | 59929/81702 [00:11<00:02, 7639.59it/s]"
     ]
    }
   ],
   "source": [
    "study.pass_keyerrors = True\n",
    "study.map_data()"
   ]
  }
 ],
 "metadata": {
  "kernelspec": {
   "display_name": ".venv",
   "language": "python",
   "name": "python3"
  },
  "language_info": {
   "codemirror_mode": {
    "name": "ipython",
    "version": 3
   },
   "file_extension": ".py",
   "mimetype": "text/x-python",
   "name": "python",
   "nbconvert_exporter": "python",
   "pygments_lexer": "ipython3",
   "version": "3.9.18"
  }
 },
 "nbformat": 4,
 "nbformat_minor": 2
}
